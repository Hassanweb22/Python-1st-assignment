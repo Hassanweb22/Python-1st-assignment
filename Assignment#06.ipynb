{
 "cells": [
  {
   "cell_type": "markdown",
   "metadata": {},
   "source": [
    "# Qno1 What is OOP"
   ]
  },
  {
   "cell_type": "markdown",
   "metadata": {},
   "source": [
    "Python is a multi-paradigm programming language. Meaning, it supports different programming approach. One of the popular approach to solve a programming problem is by creating objects. This is known as Object-Oriented Programming (OOP)."
   ]
  },
  {
   "cell_type": "markdown",
   "metadata": {},
   "source": [
    "# Qno2 List The Benefits OOP"
   ]
  },
  {
   "cell_type": "markdown",
   "metadata": {},
   "source": [
    "1) It provides a clear modular structure for programs which makes it good for defining abstract datatypes in which implementation details are hidden.\n",
    "2) Objects can also be reused within an across applications. ...\n",
    "3) It makes software easier to maintain. ...\n",
    "4) Reuse also enables faster development.\n"
   ]
  },
  {
   "cell_type": "markdown",
   "metadata": {},
   "source": [
    "# Qno3 Differnetiate Between Function and Method"
   ]
  },
  {
   "cell_type": "markdown",
   "metadata": {},
   "source": [
    "Function is defined as: \n",
    "A function is a piece of code that is called by name. It can be passed data to operate on (i.e. the parameters) and can optionally return data (the return value). "
   ]
  },
  {
   "cell_type": "markdown",
   "metadata": {},
   "source": [
    "Method is defined as:  A method is a piece of code that is called by a name that is associated with an object."
   ]
  },
  {
   "cell_type": "markdown",
   "metadata": {},
   "source": [
    "# Qno4 define class, object ,attributes and behaviour"
   ]
  },
  {
   "cell_type": "markdown",
   "metadata": {},
   "source": [
    "A class is a code template for creating objects. Objects have member variables and have behaviour associated with them. "
   ]
  },
  {
   "cell_type": "markdown",
   "metadata": {},
   "source": [
    "An object is property of class and object is created using the constructor of the class. This object will then be called the instance of the clas"
   ]
  },
  {
   "cell_type": "markdown",
   "metadata": {},
   "source": [
    "Attributes are the properties of instance of class means object "
   ]
  },
  {
   "cell_type": "markdown",
   "metadata": {},
   "source": [
    "behaviour is the property of instanace of class how they behave "
   ]
  },
  {
   "cell_type": "markdown",
   "metadata": {},
   "source": [
    "# Qno5 Make a class named car which has 5 attributes and 5 instance object"
   ]
  },
  {
   "cell_type": "code",
   "execution_count": 22,
   "metadata": {},
   "outputs": [],
   "source": [
    "class Car():\n",
    "    def __init__(self,name, model, color, year, speed):\n",
    "        self.name1=name\n",
    "        self.model1=model\n",
    "        self.color1=color\n",
    "        self.year1=year\n",
    "        self.speed1=speed\n",
    "    \n",
    "    def car_name(self):\n",
    "        print(f\"This car is {self.name1}\")\n",
    "        \n",
    "    def car_model(self):\n",
    "        print(f\"The model of this car is {self.model1}\")\n",
    "        \n",
    "    def car_color(self):\n",
    "        print(f\"The color of this car is {self.color1}\")\n",
    "        \n",
    "    def car_year(self):\n",
    "        print(f\"The model year of this car is {self.year1}\")\n",
    "        \n",
    "    def car_speed(self):\n",
    "        print(f\"The average speed of this car is {self.speed1}\")"
   ]
  },
  {
   "cell_type": "code",
   "execution_count": 23,
   "metadata": {},
   "outputs": [],
   "source": [
    "car1=Car(\"Toyota\",\"Glanza\",\"White\",2010,\"30km/h\")\n",
    "car2=Car(\"Nissan\",\"Altima\",\"Red\",2009,\"20km/h\")\n",
    "car3=Car(\"Corolla\",\"Gli\",\"Black\",2014,\"15km/h\")\n",
    "car4=Car(\"Audi\",\"A5\",\"Geyish\",2013,\"25km/h\")\n",
    "car5=Car(\"Swift\",\"AMT ZDI Plus\",\"Batch\",2011,\"10km/h\")"
   ]
  },
  {
   "cell_type": "code",
   "execution_count": 24,
   "metadata": {},
   "outputs": [
    {
     "name": "stdout",
     "output_type": "stream",
     "text": [
      "This car is Toyota\n"
     ]
    }
   ],
   "source": [
    "car1.car_name()"
   ]
  },
  {
   "cell_type": "code",
   "execution_count": 25,
   "metadata": {},
   "outputs": [
    {
     "name": "stdout",
     "output_type": "stream",
     "text": [
      "The model of this car is Altima\n"
     ]
    }
   ],
   "source": [
    "car2.car_model()"
   ]
  },
  {
   "cell_type": "code",
   "execution_count": 26,
   "metadata": {},
   "outputs": [
    {
     "name": "stdout",
     "output_type": "stream",
     "text": [
      "The color of this car is Black\n"
     ]
    }
   ],
   "source": [
    "car3.car_color()"
   ]
  },
  {
   "cell_type": "code",
   "execution_count": 27,
   "metadata": {},
   "outputs": [
    {
     "name": "stdout",
     "output_type": "stream",
     "text": [
      "The model year of this car is 2013\n"
     ]
    }
   ],
   "source": [
    "car4.car_year()"
   ]
  },
  {
   "cell_type": "code",
   "execution_count": 28,
   "metadata": {},
   "outputs": [
    {
     "name": "stdout",
     "output_type": "stream",
     "text": [
      "The average speed of this car is 10km/h\n"
     ]
    }
   ],
   "source": [
    "car5.car_speed()"
   ]
  },
  {
   "cell_type": "code",
   "execution_count": null,
   "metadata": {},
   "outputs": [],
   "source": []
  }
 ],
 "metadata": {
  "kernelspec": {
   "display_name": "Python 3",
   "language": "python",
   "name": "python3"
  },
  "language_info": {
   "codemirror_mode": {
    "name": "ipython",
    "version": 3
   },
   "file_extension": ".py",
   "mimetype": "text/x-python",
   "name": "python",
   "nbconvert_exporter": "python",
   "pygments_lexer": "ipython3",
   "version": "3.7.3"
  }
 },
 "nbformat": 4,
 "nbformat_minor": 2
}

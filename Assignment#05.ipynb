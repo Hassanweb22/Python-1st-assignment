{
 "cells": [
  {
   "cell_type": "markdown",
   "metadata": {},
   "source": [
    "QNo# 01\n",
    "Write a Python function to calculate the factorial of a number (a non-negative integer). The function accepts the number as an argument."
   ]
  },
  {
   "cell_type": "code",
   "execution_count": 1,
   "metadata": {},
   "outputs": [],
   "source": [
    "import math as mt"
   ]
  },
  {
   "cell_type": "code",
   "execution_count": 2,
   "metadata": {},
   "outputs": [
    {
     "name": "stdout",
     "output_type": "stream",
     "text": [
      "Enter The no You Want To Find The Factorial: 5\n"
     ]
    },
    {
     "data": {
      "text/plain": [
       "120"
      ]
     },
     "execution_count": 2,
     "metadata": {},
     "output_type": "execute_result"
    }
   ],
   "source": [
    "user=int(input(\"Enter The no You Want To Find The Factorial: \"))\n",
    "mt.factorial(user)"
   ]
  },
  {
   "cell_type": "code",
   "execution_count": null,
   "metadata": {},
   "outputs": [],
   "source": []
  },
  {
   "cell_type": "markdown",
   "metadata": {},
   "source": [
    "QNo# 02\n",
    "Write a Python function that accepts a string and calculate the number of upper case letters and lower case letters"
   ]
  },
  {
   "cell_type": "code",
   "execution_count": 41,
   "metadata": {},
   "outputs": [
    {
     "name": "stdout",
     "output_type": "stream",
     "text": [
      "Enter Any String: HassoHassan\n",
      "No of Upper Case Letters are 2\n",
      "No of Lower Case Letters are 9\n"
     ]
    }
   ],
   "source": [
    "user=str(input(\"Enter Any String: \"))\n",
    "str1=list(user)\n",
    "a=0\n",
    "b=0\n",
    "for i in str1:\n",
    "    if i==i.upper():\n",
    "        a+=1\n",
    "    elif i==i.lower():\n",
    "        b+=1\n",
    "print(f\"No of Upper Case Letters are {a}\\nNo of Lower Case Letters are {b}\")"
   ]
  },
  {
   "cell_type": "markdown",
   "metadata": {},
   "source": [
    "QNo# 03 Write a Python function to print the even numbers from a given list."
   ]
  },
  {
   "cell_type": "code",
   "execution_count": 60,
   "metadata": {},
   "outputs": [
    {
     "name": "stdout",
     "output_type": "stream",
     "text": [
      "Enter No to append in the List: 1\n",
      "Enter No to append in the List: 2\n",
      "Enter No to append in the List: 3\n",
      "Enter No to append in the List: 4\n",
      "Enter No to append in the List: 5\n",
      "Enter No to append in the List: 6\n",
      "Enter No to append in the List: 7\n",
      "Enter No to append in the List: 8\n",
      "Enter No to append in the List: 9\n",
      "Enter No to append in the List: 10\n",
      "Enter No to append in the List: 11\n",
      "Enter No to append in the List: 12\n",
      "Enter No to append in the List: 13\n",
      "Enter No to append in the List: 14\n",
      "Enter No to append in the List: 0\n",
      "\n",
      "\t\tThe Given List: [1, 2, 3, 4, 5, 6, 7, 8, 9, 10, 11, 12, 13, 14]\n",
      "2 4 6 8 10 12 14 \n",
      "<-----Total No of Even No in the Given List are 7----->\n"
     ]
    }
   ],
   "source": [
    "given=[]\n",
    "giv=[]\n",
    "ask=''\n",
    "while ask!=0:\n",
    "    ask=int(input(\"Enter No to append in the List: \"))\n",
    "    given.append(ask)\n",
    "given.pop()\n",
    "print(f\"\\n\\t\\tThe Given List: {given}\")\n",
    "def even():\n",
    "    a=0\n",
    "    for j in given:\n",
    "        if j%2==0:\n",
    "            print(j,end=' ')\n",
    "            a+=1\n",
    "    print(f\"\\n<-----Total No of Even No in the Given List are {a}----->\")\n",
    "even()"
   ]
  },
  {
   "cell_type": "markdown",
   "metadata": {},
   "source": [
    "QNo# 04 Write a Python function that checks whether a passed string is palindrome or not. Note: A palindrome is a word, phrase, or sequence that reads the same backward as forward, e.g., madam"
   ]
  },
  {
   "cell_type": "code",
   "execution_count": 111,
   "metadata": {},
   "outputs": [],
   "source": [
    "def palin(give):\n",
    "    x=''\n",
    "    y=''\n",
    "    giv1=list(give)\n",
    "    mid=(len(giv1)-1)/2\n",
    "    first_to_mid= giv1[0:int(mid)]\n",
    "    mid_to_last= giv1[int(mid)+1:]\n",
    "    for i in first_to_mid:\n",
    "        x+=i\n",
    "    for j in reversed(mid_to_last):\n",
    "        y+=j\n",
    "    if x==y:\n",
    "        print(f\"The Word '{give}' is Palindrome Word\")\n",
    "    else:\n",
    "        print(f\"The Word '{give}' is not Palinndrome Word\")"
   ]
  },
  {
   "cell_type": "code",
   "execution_count": 113,
   "metadata": {},
   "outputs": [
    {
     "name": "stdout",
     "output_type": "stream",
     "text": [
      "Enter any word: racecar\n",
      "The Word 'racecar' is Palindrome Word\n"
     ]
    }
   ],
   "source": [
    "give=str(input(\"Enter any word: \"))\n",
    "palin(give)"
   ]
  },
  {
   "cell_type": "markdown",
   "metadata": {},
   "source": [
    "QNo# 05 Write a Python function that takes a number as a parameter and check the number is prime or not."
   ]
  },
  {
   "cell_type": "code",
   "execution_count": 13,
   "metadata": {},
   "outputs": [],
   "source": [
    "def prime(num):\n",
    "    if num > 1:\n",
    "   # check for factors\n",
    "        for i in range(2,num):\n",
    "            if (num % i) == 0:\n",
    "                print(num,\"is not a prime number\")\n",
    "                print(i,\"times\",num//i,\"is\",num)\n",
    "                break\n",
    "        else:\n",
    "            print(num,\"is a prime number\")\n",
    "    # or equal to 1, it is not prime\n",
    "    else:\n",
    "        print(num,\"is not a prime number\")"
   ]
  },
  {
   "cell_type": "code",
   "execution_count": 18,
   "metadata": {},
   "outputs": [
    {
     "name": "stdout",
     "output_type": "stream",
     "text": [
      "13 is a prime number\n"
     ]
    }
   ],
   "source": [
    "prime(13)"
   ]
  },
  {
   "cell_type": "markdown",
   "metadata": {},
   "source": [
    "QNo# 06 Suppose a customer is shopping in a market and you need to print all the items which user bought from market. Write a function which accepts the multiple arguments of user shopping list and print all the items which user bought from market. (Hint: Arbitrary Argument concept can make this task ease)"
   ]
  },
  {
   "cell_type": "code",
   "execution_count": 29,
   "metadata": {},
   "outputs": [],
   "source": [
    "def shopping(*fnames):\n",
    "    print(\"User Have Bought The Following Items:\")\n",
    "    for stuff in fnames:\n",
    "        print(stuff)"
   ]
  },
  {
   "cell_type": "code",
   "execution_count": 30,
   "metadata": {},
   "outputs": [
    {
     "name": "stdout",
     "output_type": "stream",
     "text": [
      "User Have Bought The Following Items:\n",
      "Oranges\n",
      "Danem Shirts\n",
      "Shoes\n",
      "Uppers\n",
      "Burgers\n",
      "Perfumes\n"
     ]
    }
   ],
   "source": [
    "shopping(\"Oranges\",\"Danem Shirts\",\"Shoes\",\"Uppers\",\"Burgers\",\"Perfumes\")"
   ]
  },
  {
   "cell_type": "code",
   "execution_count": null,
   "metadata": {},
   "outputs": [],
   "source": []
  }
 ],
 "metadata": {
  "kernelspec": {
   "display_name": "Python 3",
   "language": "python",
   "name": "python3"
  },
  "language_info": {
   "codemirror_mode": {
    "name": "ipython",
    "version": 3
   },
   "file_extension": ".py",
   "mimetype": "text/x-python",
   "name": "python",
   "nbconvert_exporter": "python",
   "pygments_lexer": "ipython3",
   "version": "3.7.3"
  }
 },
 "nbformat": 4,
 "nbformat_minor": 2
}

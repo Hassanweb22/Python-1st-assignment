{
 "cells": [
  {
   "cell_type": "markdown",
   "metadata": {},
   "source": [
    "# Q: No1 )\n",
    "Use a dictionary to store information about a person you know. Store their first name, last name, age, and the city in which they live. You should have keys such as first_name, last_name, age, and city. Print each piece of information stored in your dictionary.Add a new key value pair about qualification then update the qualification value to high academic level then delete it."
   ]
  },
  {
   "cell_type": "code",
   "execution_count": 2,
   "metadata": {},
   "outputs": [
    {
     "name": "stdout",
     "output_type": "stream",
     "text": [
      "First_name : Hasso\n",
      "Last_name : Khan\n",
      "Age : 24\n",
      "City : Karachi\n",
      "\n",
      "{'First_name': 'Hasso', 'Last_name': 'Khan', 'Age': '24', 'City': 'Karachi', 'Qualification': 'Intermediate'}\n",
      "\n",
      "After Updating Qualifiction The New Info is:\n",
      "{'First_name': 'Hasso', 'Last_name': 'Khan', 'Age': '24', 'City': 'Karachi', 'Qualification': 'Undergraduate'}\n",
      "\n",
      "\n",
      " After deleting Qualification key From The Dictionary:\n",
      "{'First_name': 'Hasso', 'Last_name': 'Khan', 'Age': '24', 'City': 'Karachi'}\n"
     ]
    }
   ],
   "source": [
    "person={\"First_name\":\"Hasso\", \"Last_name\":\"Khan\", \"Age\":\"24\", \"City\":\"Karachi\"}\n",
    "for i,j in person.items():\n",
    "    print(f\"{i} : {j}\")\n",
    "person[\"Qualification\"]=\"Intermediate\"\n",
    "print(f\"\\n{person}\")\n",
    "person[\"Qualification\"]=\"Undergraduate\"\n",
    "print(f\"\\nAfter Updating Qualifiction The New Info is:\\n{person}\\n\")\n",
    "del person[\"Qualification\"]\n",
    "print(f\"\\n After deleting Qualification key From The Dictionary:\\n{person}\")"
   ]
  },
  {
   "cell_type": "code",
   "execution_count": null,
   "metadata": {},
   "outputs": [],
   "source": []
  },
  {
   "cell_type": "markdown",
   "metadata": {},
   "source": [
    "# Q: No2)\n",
    "Make a dictionary called cities. Use the names of three cities as keys in your dictionary. Create a dictionary of information about each city and include the country that the city is in, its approximate population, and one fact about that city. The keys for each city’s dictionary should be something like country, population, and fact. Print the name of each city and all of the information you have stored about it."
   ]
  },
  {
   "cell_type": "code",
   "execution_count": 3,
   "metadata": {},
   "outputs": [
    {
     "name": "stdout",
     "output_type": "stream",
     "text": [
      "Karachi={'Country': 'Pakistan', 'Approximate Population': '30 million', 'One Fact': '75% magirants From India Came to Karachi'}\n",
      "\n",
      "New Delhi={'Country': 'India', 'Approximate Population': '22 million', 'One Fact': '2nd Most Populated Cuntry in the world'}\n",
      "\n",
      "London={'Country': 'England', 'Approximate Population': '8.9 million', 'One Fact': 'The Clock Tower of London'}\n",
      "\n",
      "\n",
      "<---------Printing Each Info Of Cities Out of Their Dictionary-------->\n",
      "\n",
      "For Karachi:\n",
      "Country is Pakistan\n",
      "Approximate Population is 30 million\n",
      "One Fact is 75% magirants From India Came to Karachi\n",
      "\n",
      "\n",
      "For New Delhi:\n",
      "Country is India\n",
      "Approximate Population is 22 million\n",
      "One Fact is 2nd Most Populated Cuntry in the world\n",
      "\n",
      "\n",
      "For London:\n",
      "Country is England\n",
      "Approximate Population is 8.9 million\n",
      "One Fact is The Clock Tower of London\n",
      "\n",
      "\n"
     ]
    }
   ],
   "source": [
    "cities={\"Karachi\":{\"Country\":\"Pakistan\" ,\"Approximate Population\":\"30 million\" ,\"One Fact\":\"75% magirants From India Came to Karachi\" },\"New Delhi\":{\"Country\":\"India\" ,\"Approximate Population\":\"22 million\" ,\"One Fact\":\"2nd Most Populated Cuntry in the world\" },\"London\":{\"Country\":\"England\" ,\"Approximate Population\":\"8.9 million\" ,\"One Fact\":\"The Clock Tower of London\" }}\n",
    "for i,j in cities.items():\n",
    "    print(f\"{i}={j}\\n\")\n",
    "print(\"\\n<---------Printing Each Info Of Cities Out of Their Dictionary-------->\\n\")\n",
    "for i,j in cities.items():\n",
    "    print(f\"For {i}:\")\n",
    "    for x,y in j.items():\n",
    "        print(f\"{x} is {y}\")\n",
    "    print(\"\\n\")    "
   ]
  },
  {
   "cell_type": "code",
   "execution_count": null,
   "metadata": {},
   "outputs": [],
   "source": []
  },
  {
   "cell_type": "markdown",
   "metadata": {},
   "source": [
    "# Q: No3)\n",
    "A movie theater charges different ticket prices depending on a person’s age. If a person is under the age of 3, the ticket is free; if they are between 3 and 12, the ticket is $10; and if they are over age 12, the ticket is $15. Write a loop in which you ask users their age, and then tell them the cost of their movie ticket."
   ]
  },
  {
   "cell_type": "code",
   "execution_count": 4,
   "metadata": {},
   "outputs": [
    {
     "name": "stdout",
     "output_type": "stream",
     "text": [
      "\t\t\t<-------Movie Theater Ticket Prices-------->\n",
      "\n",
      "Enter Your Age: 2\n",
      "The Ticket is Free \n",
      "\n",
      "Enter Your Age: 6\n",
      "The Ticket is For 10 \n",
      "\n",
      "Enter Your Age: 13\n",
      "The Ticket is For 15 \n",
      "\n",
      "Enter Your Age: 0\n",
      "\t\t\t   <-------Thanks For Coming-------->\n"
     ]
    }
   ],
   "source": [
    "print(\"\\t\\t\\t<-------Movie Theater Ticket Prices-------->\\n\")\n",
    "age=int(input(\"Enter Your Age: \"))\n",
    "while age!=0:\n",
    "    if age<=3:\n",
    "        print(\"The Ticket is Free \\n\")\n",
    "    elif age>3 and age<=12:\n",
    "        print(\"The Ticket is For 10 \\n\")\n",
    "    elif age>12:\n",
    "        print(\"The Ticket is For 15 \\n\")\n",
    "    age=int(input(\"Enter Your Age: \"))\n",
    "print(\"\\t\\t\\t   <-------Thanks For Coming-------->\")"
   ]
  },
  {
   "cell_type": "code",
   "execution_count": null,
   "metadata": {},
   "outputs": [],
   "source": []
  },
  {
   "cell_type": "markdown",
   "metadata": {},
   "source": [
    "# Q: No4)\n",
    "Write a function called favorite_book() that accepts one parameter, title. The function should print a message, such as One of my favorite books is Alice in Wonderland. Call the function, making sure to include a book title as an argument in the function call."
   ]
  },
  {
   "cell_type": "code",
   "execution_count": 5,
   "metadata": {},
   "outputs": [
    {
     "name": "stdout",
     "output_type": "stream",
     "text": [
      "Enter The Title Of Your Favourite Book: Smarter Way To Learn Python\n",
      "\n",
      "One of my Favourite Book is Smarter Way To Learn Python!!!\n"
     ]
    }
   ],
   "source": [
    "title=str(input(\"Enter The Title Of Your Favourite Book: \"))\n",
    "def favourite_book(title):\n",
    "    print(f\"\\nOne of my Favourite Book is {title}!!!\")\n",
    "favourite_book(title)"
   ]
  },
  {
   "cell_type": "code",
   "execution_count": null,
   "metadata": {},
   "outputs": [],
   "source": []
  },
  {
   "cell_type": "markdown",
   "metadata": {},
   "source": [
    "# Q: No5)\n",
    "Guess the number game\n",
    "Write a program which randomly generate a number between 1 to 30 and ask the user in input field to guess the correct number. Give three chances to user guess the number and also give hint to user if hidden number is greater or smaller than the number he given to input field.\n"
   ]
  },
  {
   "cell_type": "code",
   "execution_count": 6,
   "metadata": {},
   "outputs": [],
   "source": [
    "import random as rd"
   ]
  },
  {
   "cell_type": "code",
   "execution_count": 10,
   "metadata": {},
   "outputs": [
    {
     "name": "stdout",
     "output_type": "stream",
     "text": [
      "Guess The no in Between 1 To 30: 14\n",
      "The No You Entered is Smaller Than Hidden No \n",
      "\n",
      "Guess The no in Between 1 To 30: 18\n",
      "The No You Entered is Smaller Than Hidden No \n",
      "\n",
      "Guess The no in Between 1 To 30: 22\n",
      "The No You Entered is Smaller Than Hidden No \n",
      "\n",
      "The Hidden No Was 29\n",
      "<----You Lose!!! Better Luck Next Time---->\n"
     ]
    }
   ],
   "source": [
    "a=rd.randint(1,30)\n",
    "b=1\n",
    "while b<=3:\n",
    "    ask=int(input(\"Guess The no in Between 1 To 30: \"))\n",
    "    if ask>a:\n",
    "        print(\"The No You Entered is Greater Than Hidden No \\n\")\n",
    "    elif ask<a:\n",
    "        print(\"The No You Entered is Smaller Than Hidden No \\n\")\n",
    "    elif ask==a:\n",
    "        print(\"\\n\\t\\t\\t-*-*-*-*Congratulations!!! You Won*-*-*-*-\")\n",
    "        break\n",
    "    b+=1\n",
    "if b>3:\n",
    "    print(f\"The Hidden No Was {a}\\n<----You Lose!!! Better Luck Next Time---->\")"
   ]
  },
  {
   "cell_type": "markdown",
   "metadata": {},
   "source": []
  }
 ],
 "metadata": {
  "kernelspec": {
   "display_name": "Python 3",
   "language": "python",
   "name": "python3"
  },
  "language_info": {
   "codemirror_mode": {
    "name": "ipython",
    "version": 3
   },
   "file_extension": ".py",
   "mimetype": "text/x-python",
   "name": "python",
   "nbconvert_exporter": "python",
   "pygments_lexer": "ipython3",
   "version": "3.7.3"
  }
 },
 "nbformat": 4,
 "nbformat_minor": 2
}
